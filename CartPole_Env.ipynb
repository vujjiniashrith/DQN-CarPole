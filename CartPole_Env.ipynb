{
  "cells": [
    {
      "cell_type": "markdown",
      "metadata": {
        "id": "view-in-github",
        "colab_type": "text"
      },
      "source": [
        "<a href=\"https://colab.research.google.com/github/vujjiniashrith/DQN-CarPole/blob/main/CartPole_Env.ipynb\" target=\"_parent\"><img src=\"https://colab.research.google.com/assets/colab-badge.svg\" alt=\"Open In Colab\"/></a>"
      ]
    },
    {
      "cell_type": "code",
      "execution_count": null,
      "id": "f0da1e2b",
      "metadata": {
        "id": "f0da1e2b"
      },
      "outputs": [],
      "source": [
        "import random\n",
        "import gym\n",
        "import numpy as np\n"
      ]
    },
    {
      "cell_type": "code",
      "execution_count": null,
      "id": "b4291d0f",
      "metadata": {
        "id": "b4291d0f"
      },
      "outputs": [],
      "source": [
        "env = gym.make(\"CartPole-v1\",render_mode = 'human')"
      ]
    },
    {
      "cell_type": "code",
      "execution_count": null,
      "id": "25fe7a9d",
      "metadata": {
        "id": "25fe7a9d",
        "outputId": "61b7f7df-645f-4f92-819e-e04b629adeeb"
      },
      "outputs": [
        {
          "name": "stdout",
          "output_type": "stream",
          "text": [
            "Episode 1, Score: 23.0\n",
            "Episode 2, Score: 23.0\n",
            "Episode 3, Score: 16.0\n",
            "Episode 4, Score: 21.0\n",
            "Episode 5, Score: 18.0\n",
            "Episode 6, Score: 24.0\n",
            "Episode 7, Score: 17.0\n",
            "Episode 8, Score: 22.0\n",
            "Episode 9, Score: 10.0\n",
            "Episode 10, Score: 48.0\n"
          ]
        }
      ],
      "source": [
        "episodes = 10\n",
        "for episode in range(1,episodes+1):\n",
        "    state = env.reset()\n",
        "    done = False\n",
        "    score = 0\n",
        "\n",
        "    while not done:\n",
        "        action = random.choice([0,1])\n",
        "        _,reward,done,_,_ = env.step(action)\n",
        "        score+=reward\n",
        "        env.render()\n",
        "    print(f\"Episode {episode}, Score: {score}\")"
      ]
    },
    {
      "cell_type": "code",
      "execution_count": null,
      "id": "9114664e",
      "metadata": {
        "id": "9114664e"
      },
      "outputs": [],
      "source": [
        "env.close()"
      ]
    },
    {
      "cell_type": "code",
      "execution_count": null,
      "id": "30b990e8",
      "metadata": {
        "id": "30b990e8"
      },
      "outputs": [],
      "source": []
    }
  ],
  "metadata": {
    "kernelspec": {
      "display_name": "Python 3 (ipykernel)",
      "language": "python",
      "name": "python3"
    },
    "language_info": {
      "codemirror_mode": {
        "name": "ipython",
        "version": 3
      },
      "file_extension": ".py",
      "mimetype": "text/x-python",
      "name": "python",
      "nbconvert_exporter": "python",
      "pygments_lexer": "ipython3",
      "version": "3.9.13"
    },
    "colab": {
      "provenance": [],
      "include_colab_link": true
    }
  },
  "nbformat": 4,
  "nbformat_minor": 5
}